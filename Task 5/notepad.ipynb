{
 "cells": [
  {
   "cell_type": "code",
   "execution_count": 1,
   "metadata": {},
   "outputs": [],
   "source": [
    "from model import *\n",
    "from os.path import exists\n",
    "import pandas as pd\n",
    "import numpy as np"
   ]
  },
  {
   "cell_type": "code",
   "execution_count": 2,
   "metadata": {},
   "outputs": [
    {
     "name": "stdout",
     "output_type": "stream",
     "text": [
      "Done: p = 0.2, rho = 0.1\n",
      "Done: p = 0.2, rho = 0.2\n",
      "Done: p = 0.2, rho = 0.6\n",
      "Done: p = 0.5, rho = 0.1\n",
      "Done: p = 0.5, rho = 0.2\n",
      "Done: p = 0.5, rho = 0.6\n",
      "Done: p = 0.7, rho = 0.1\n",
      "Done: p = 0.7, rho = 0.2\n",
      "Done: p = 0.7, rho = 0.6\n"
     ]
    }
   ],
   "source": [
    "#generating GIFs\n",
    "ps = [0.2, 0.5, 0.7]\n",
    "rhos = [0.1, 0.2, 0.6]\n",
    "MC_N = 100\n",
    "average_velocity = mc_average_velocity_array(ps, rhos, MC_N, True)"
   ]
  },
  {
   "cell_type": "code",
   "execution_count": 3,
   "metadata": {},
   "outputs": [],
   "source": [
    "#generating plot\n",
    "ps = [0.2, 0.5, 0.7]\n",
    "rhos = np.arange(0.05,1,0.05)\n",
    "MC_N = 100\n",
    "average_velocity = mc_average_velocity_array(ps, rhos, MC_N, False)"
   ]
  },
  {
   "cell_type": "code",
   "execution_count": null,
   "metadata": {},
   "outputs": [],
   "source": [
    "plot_avg_velocity(average_velocity)"
   ]
  }
 ],
 "metadata": {
  "interpreter": {
   "hash": "31f2aee4e71d21fbe5cf8b01ff0e069b9275f58929596ceb00d14d90e3e16cd6"
  },
  "kernelspec": {
   "display_name": "Python 3",
   "language": "python",
   "name": "python3"
  },
  "language_info": {
   "codemirror_mode": {
    "name": "ipython",
    "version": 3
   },
   "file_extension": ".py",
   "mimetype": "text/x-python",
   "name": "python",
   "nbconvert_exporter": "python",
   "pygments_lexer": "ipython3",
   "version": "3.8.1"
  }
 },
 "nbformat": 4,
 "nbformat_minor": 2
}
