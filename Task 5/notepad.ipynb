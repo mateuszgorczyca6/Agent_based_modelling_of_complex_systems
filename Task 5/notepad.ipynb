{
 "cells": [
  {
   "cell_type": "code",
   "execution_count": 1,
   "metadata": {},
   "outputs": [],
   "source": [
    "import numpy as np\n",
    "from random import random as rand\n",
    "from random import randint\n",
    "import matplotlib.pyplot as plt\n",
    "from PIL import Image\n",
    "import imageio\n",
    "import os"
   ]
  },
  {
   "cell_type": "code",
   "execution_count": 2,
   "metadata": {},
   "outputs": [],
   "source": [
    "class Car:\n",
    "    def __init__(self, nr):\n",
    "        self.velocity = 0\n",
    "        self.nr = nr\n",
    "    \n",
    "    def accelerate(self, closest_road: np.array, velocity_decrease_prob: float, velocity_max: int):\n",
    "        self.velocity += 1\n",
    "        if np.sum(closest_road) > 0:\n",
    "            self.velocity = min(np.argmax(closest_road), self.velocity)\n",
    "        if rand() < velocity_decrease_prob:\n",
    "            self.velocity -= 1\n",
    "        self.velocity = max(min(self.velocity, velocity_max), 0)\n",
    "           \n",
    "    def __repr__(self):\n",
    "        return f\"Car({self.velocity})\""
   ]
  },
  {
   "cell_type": "code",
   "execution_count": 3,
   "metadata": {},
   "outputs": [],
   "source": [
    "class Nagel_Schreckenberg_model:\n",
    "    __car_class = Car\n",
    "    def __init__(self, velocity_decrease_prob: float, car_appearance_prob: float, road_length: int = 100, velocity_max: int = 5):\n",
    "        self.velocity_decrease_prob = velocity_decrease_prob\n",
    "        self.car_appearance_prob = car_appearance_prob\n",
    "        self.road_len = road_length\n",
    "        self.velocity_max = velocity_max\n",
    "    \n",
    "    def simulate(self, steps: int = 100):\n",
    "        self.history = np.zeros((steps+1, self.road_len), object)\n",
    "        self.spread_cars()\n",
    "        self.history[0] = self.road.copy()\n",
    "        for step in range(steps):\n",
    "            self.iterate()\n",
    "            self.history[step+1] = self.road.copy()\n",
    "\n",
    "    def spread_cars(self):\n",
    "        #  making logical array with cars positioned\n",
    "        self.road_logic = np.random.binomial(1, self.car_appearance_prob, self.road_len)\n",
    "        #  replacing True with Car objects\n",
    "        self.road = np.array(list(map(lambda x: self.__car_class(randint(0,2)) if x else 0, self.road_logic)))\n",
    "\n",
    "    def iterate(self):\n",
    "        road_longer = np.concatenate([self.road_logic, self.road_logic[:self.velocity_max]])\n",
    "        for id, cell in enumerate(self.road):\n",
    "            if isinstance(cell, self.__car_class):\n",
    "                cell.accelerate(road_longer[id+1: id+cell.velocity+2], self.velocity_decrease_prob, self.velocity_max)\n",
    "        self.move_cars()\n",
    "\n",
    "    def move_cars(self):\n",
    "        new_road = np.zeros(self.road_len, object)\n",
    "        for id, cell in enumerate(self.road):\n",
    "            if isinstance(cell, self.__car_class):\n",
    "                new_pos = id + cell.velocity\n",
    "                new_road[new_pos % self.road_len] = cell\n",
    "        self.road = new_road.copy()\n",
    "        self.road_logic = self.road != 0\n",
    "    \n",
    "images_info = {\n",
    "    0: {\"img\": Image.open(\"cars/car1.png\"), \"zoom\": 0.15},\n",
    "    1: {\"img\": Image.open(\"cars/car2.png\"), \"zoom\": 0.15},\n",
    "    2: {\"img\": Image.open(\"cars/car3.png\"), \"zoom\": 0.15}\n",
    "}\n",
    "\n",
    "from matplotlib.offsetbox import OffsetImage, AnnotationBbox\n",
    "def plot_history(self, fname: str):\n",
    "    def draw_image(x, y, nr):\n",
    "        imagebox = OffsetImage(images_info[nr][\"img\"], zoom=images_info[nr][\"zoom\"])\n",
    "        ab = AnnotationBbox(imagebox, (x, y), frameon=False)\n",
    "        ax.add_artist(ab)\n",
    "\n",
    "    filenames = []\n",
    "    images = []\n",
    "    for t, flashback in enumerate(self.history):\n",
    "        _, ax = plt.subplots(figsize=(30,0.3), facecolor=\"white\")\n",
    "        car_pos = np.array(np.where(flashback != 0)).T\n",
    "        for pos in car_pos:\n",
    "            draw_image(pos[0], 0, self.history[t, pos[0]].nr)\n",
    "        plt.xticks([i-0.5 for i in range(self.road_len+2)], color=\"white\")\n",
    "        plt.yticks([-0.5,0.5], color=\"white\")\n",
    "        plt.xlim(-0.5, self.road_len-0.5)\n",
    "        plt.ylim(-0.5, 0.5)\n",
    "        plt.grid(color=\"black\")\n",
    "        plt.draw()\n",
    "        image_name = f\"time{t}.png\"\n",
    "        filenames.append(image_name)\n",
    "        plt.savefig(image_name)\n",
    "        images.append(imageio.imread(image_name))\n",
    "        plt.close()\n",
    "    imageio.mimsave(fname, images, fps=round(len(self.history)/15))\n",
    "    for i in filenames:\n",
    "        os.remove(i)"
   ]
  },
  {
   "cell_type": "code",
   "execution_count": 4,
   "metadata": {},
   "outputs": [],
   "source": [
    "model = Nagel_Schreckenberg_model(0.2, 0.2, 100)\n",
    "model.simulate(30)"
   ]
  },
  {
   "cell_type": "code",
   "execution_count": 5,
   "metadata": {},
   "outputs": [],
   "source": [
    "plot_history(model, \"base.gif\")"
   ]
  }
 ],
 "metadata": {
  "interpreter": {
   "hash": "31f2aee4e71d21fbe5cf8b01ff0e069b9275f58929596ceb00d14d90e3e16cd6"
  },
  "kernelspec": {
   "display_name": "Python 3.8.10 64-bit",
   "language": "python",
   "name": "python3"
  },
  "language_info": {
   "codemirror_mode": {
    "name": "ipython",
    "version": 3
   },
   "file_extension": ".py",
   "mimetype": "text/x-python",
   "name": "python",
   "nbconvert_exporter": "python",
   "pygments_lexer": "ipython3",
   "version": "3.8.10"
  },
  "orig_nbformat": 4
 },
 "nbformat": 4,
 "nbformat_minor": 2
}
