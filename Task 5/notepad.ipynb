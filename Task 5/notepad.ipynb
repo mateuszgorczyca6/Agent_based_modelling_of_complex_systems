{
 "cells": [
  {
   "cell_type": "code",
   "execution_count": 2,
   "metadata": {},
   "outputs": [],
   "source": [
    "from model import *\n",
    "from os.path import exists"
   ]
  },
  {
   "cell_type": "code",
   "execution_count": 6,
   "metadata": {},
   "outputs": [],
   "source": [
    "for p in [0.2, 0.5, 0.7]:\n",
    "    for rho in [0.1, 0.2, 0.6]:\n",
    "        model = Nagel_Schreckenberg_model(p, rho, 100)\n",
    "        model.simulate(100)\n",
    "        fname = f\"base__p_{p}__rho_{rho}.gif\"\n",
    "        if not exists(fname):\n",
    "            plot_history(model, f\"base__p_{p}__rho_{rho}\", f\"Road simulation; p = {p}; rho = {rho}\")"
   ]
  },
  {
   "cell_type": "code",
   "execution_count": null,
   "metadata": {},
   "outputs": [],
   "source": [
    "# model = Nagel_Schreckenberg_model(0.1, 0.2, 100)\n",
    "# model.simulate(2)\n",
    "# plot_history(model, \"base.gif\", \"Road simulation; p = 0.1; rho = 0.2\")"
   ]
  },
  {
   "cell_type": "code",
   "execution_count": null,
   "metadata": {},
   "outputs": [],
   "source": []
  }
 ],
 "metadata": {
  "interpreter": {
   "hash": "31f2aee4e71d21fbe5cf8b01ff0e069b9275f58929596ceb00d14d90e3e16cd6"
  },
  "kernelspec": {
   "display_name": "Python 3.8.10 64-bit",
   "language": "python",
   "name": "python3"
  },
  "language_info": {
   "codemirror_mode": {
    "name": "ipython",
    "version": 3
   },
   "file_extension": ".py",
   "mimetype": "text/x-python",
   "name": "python",
   "nbconvert_exporter": "python",
   "pygments_lexer": "ipython3",
   "version": "3.8.10"
  },
  "orig_nbformat": 4
 },
 "nbformat": 4,
 "nbformat_minor": 2
}
