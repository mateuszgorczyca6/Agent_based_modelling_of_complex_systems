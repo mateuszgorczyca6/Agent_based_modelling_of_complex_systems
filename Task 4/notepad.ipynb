{
 "cells": [
  {
   "cell_type": "code",
   "execution_count": 1,
   "metadata": {},
   "outputs": [],
   "source": [
    "from shelling_segregation import ShellingSegregation, make_gif\n",
    "from os.path import exists"
   ]
  },
  {
   "cell_type": "markdown",
   "metadata": {},
   "source": [
    "# GIFs"
   ]
  },
  {
   "cell_type": "markdown",
   "metadata": {},
   "source": [
    "## baseline"
   ]
  },
  {
   "cell_type": "code",
   "execution_count": 2,
   "metadata": {},
   "outputs": [],
   "source": [
    "segregation = ShellingSegregation()\n",
    "L = 100\n",
    "R = 4000\n",
    "B = 4000\n",
    "jr = 0.5\n",
    "jb = 0.5\n",
    "k = 1\n",
    "fname = 'baseline.gif'\n",
    "if not exists(fname):\n",
    "    segregation.simulate(L, R, B, jr, jb, k)\n",
    "    make_gif(fname, segregation.lattice_list, L, R, B, jr, jb, k)"
   ]
  },
  {
   "cell_type": "markdown",
   "metadata": {},
   "source": [
    "## $j_r$ = 0.75, $j_b$ = 0.375"
   ]
  },
  {
   "cell_type": "code",
   "execution_count": 3,
   "metadata": {},
   "outputs": [],
   "source": [
    "jr = 0.75\n",
    "jb = 0.375\n",
    "fname = 'big_diff.gif'\n",
    "if not exists(fname):\n",
    "    segregation.simulate(L, R, B, jr, jb, k)\n",
    "    make_gif(fname, segregation.lattice_list, L, R, B, jr, jb, k)\n",
    "jr = 0.5\n",
    "jb = 0.5"
   ]
  },
  {
   "cell_type": "markdown",
   "metadata": {},
   "source": [
    "## k = 3"
   ]
  },
  {
   "cell_type": "code",
   "execution_count": 4,
   "metadata": {},
   "outputs": [],
   "source": [
    "k = 3\n",
    "fname = 'big_neighbourhood.gif'\n",
    "if not exists(fname):\n",
    "    segregation.simulate(L, R, B, jr, jb, k)\n",
    "    make_gif(fname, segregation.lattice_list, L, R, B, jr, jb, k)\n",
    "k = 1"
   ]
  },
  {
   "cell_type": "markdown",
   "metadata": {},
   "source": [
    "# Plots"
   ]
  },
  {
   "cell_type": "markdown",
   "metadata": {},
   "source": [
    "## iterations(N)"
   ]
  },
  {
   "cell_type": "code",
   "execution_count": 6,
   "metadata": {},
   "outputs": [
    {
     "name": "stdout",
     "output_type": "stream",
     "text": [
      "Value: N=10000, MC: 0\n",
      "step: 45, unhappy red: 0, unhappy blue: 12, avg: 0.87015, no improvement since 10 steps\n"
     ]
    },
    {
     "data": {
      "text/plain": [
       "[<matplotlib.lines.Line2D at 0x7fa391e9f0d0>]"
      ]
     },
     "execution_count": 6,
     "metadata": {},
     "output_type": "execute_result"
    },
    {
     "data": {
      "image/png": "[encoded data removed]",
      "text/plain": [
       "<Figure size 432x288 with 1 Axes>"
      ]
     },
     "metadata": {
      "needs_background": "light"
     },
     "output_type": "display_data"
    }
   ],
   "source": [
    "import json\n",
    "import matplotlib.pyplot as plt\n",
    "MC_N = 1\n",
    "fname = \"iterations_N.json\"\n",
    "cont = True\n",
    "if exists(fname):\n",
    "    with open(fname) as f:\n",
    "        data = json.load(f)\n",
    "    Ns = data[\"Ns\"]\n",
    "    iterations = data[\"iterations\"]\n",
    "if cont or not(exists(fname)):\n",
    "    if cont:\n",
    "        N = Ns[-1]\n",
    "    else:\n",
    "        Ns = []\n",
    "        iterations = []\n",
    "        N = 0\n",
    "    while N <= 10000:\n",
    "        N += 50\n",
    "        iteration, _, not_stopped = segregation.monte_carlo(MC_N, L, int(N/2), int(N/2), jr, jb, k, False, f\"N={N}\")\n",
    "        if not not_stopped:\n",
    "            break\n",
    "        Ns.append(N)\n",
    "        iterations.append(iteration)\n",
    "\n",
    "        data = {\"Ns\": Ns, \"iterations\": iterations}\n",
    "\n",
    "        with open(fname, \"w\") as f:\n",
    "            json.dump(data, f)\n",
    "        \n",
    "plt.plot(Ns, iterations)"
   ]
  }
 ],
 "metadata": {
  "interpreter": {
   "hash": "31f2aee4e71d21fbe5cf8b01ff0e069b9275f58929596ceb00d14d90e3e16cd6"
  },
  "kernelspec": {
   "display_name": "Python 3.8.10 64-bit",
   "language": "python",
   "name": "python3"
  },
  "language_info": {
   "codemirror_mode": {
    "name": "ipython",
    "version": 3
   },
   "file_extension": ".py",
   "mimetype": "text/x-python",
   "name": "python",
   "nbconvert_exporter": "python",
   "pygments_lexer": "ipython3",
   "version": "3.8.10"
  },
  "orig_nbformat": 4
 },
 "nbformat": 4,
 "nbformat_minor": 2
}
