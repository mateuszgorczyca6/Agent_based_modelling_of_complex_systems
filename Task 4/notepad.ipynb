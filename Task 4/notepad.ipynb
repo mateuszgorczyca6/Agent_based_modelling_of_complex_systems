{
 "cells": [
  {
   "cell_type": "code",
   "execution_count": 1,
   "metadata": {},
   "outputs": [],
   "source": [
    "from shelling_segregation import ShellingSegregation, make_gif"
   ]
  },
  {
   "cell_type": "code",
   "execution_count": 2,
   "metadata": {},
   "outputs": [
    {
     "name": "stdout",
     "output_type": "stream",
     "text": [
      "step: 1 min red: 0.0 (1016), min blue:0.0 (3546), avg: 0.4263247023809523\n",
      "step: 2 min red: 0.0 (617), min blue:0.0 (2886), avg: 0.5106178571428571\n",
      "step: 3 min red: 0.0 (372), min blue:0.0 (2362), avg: 0.5810547619047619\n",
      "step: 4 min red: 0.0 (228), min blue:0.0 (1954), avg: 0.6348657738095238\n",
      "step: 5 min red: 0.0 (144), min blue:0.0 (1732), avg: 0.669191369047619\n",
      "step: 6 min red: 0.0 (104), min blue:0.0 (1549), avg: 0.6959626488095237\n",
      "step: 7 min red: 0.0 (76), min blue:0.0 (1428), avg: 0.7193223214285716\n",
      "step: 8 min red: 0.0 (50), min blue:0.0 (1326), avg: 0.7324142857142856\n",
      "step: 9 min red: 0.0 (40), min blue:0.16666666666666666 (1257), avg: 0.7444372023809523\n",
      "step: 10 min red: 0.0 (31), min blue:0.14285714285714285 (1217), avg: 0.7516346726190477\n",
      "step: 11 min red: 0.0 (22), min blue:0.0 (1171), avg: 0.7573269345238095\n",
      "step: 12 min red: 0.0 (18), min blue:0.0 (1139), avg: 0.766285119047619\n",
      "step: 13 min red: 0.0 (14), min blue:0.0 (1122), avg: 0.7675986607142857\n",
      "step: 14 min red: 0.0 (15), min blue:0.2 (1094), avg: 0.7705610119047619\n",
      "step: 15 min red: 0.0 (13), min blue:0.25 (1075), avg: 0.7735590773809524\n",
      "step: 16 min red: 0.0 (10), min blue:0.0 (1045), avg: 0.7791622023809525\n",
      "step: 17 min red: 0.0 (12), min blue:0.2857142857142857 (1028), avg: 0.7817925595238095\n",
      "step: 18 min red: 0.0 (5), min blue:0.14285714285714285 (1039), avg: 0.7791669642857143\n",
      "step: 19 min red: 0.0 (7), min blue:0.2857142857142857 (1026), avg: 0.7837083333333332\n",
      "step: 20 min red: 0.0 (7), min blue:0.3333333333333333 (1019), avg: 0.7863892857142857\n",
      "step: 21 min red: 0.0 (1), min blue:0.3333333333333333 (1009), avg: 0.7860834821428571\n",
      "step: 22 min red: 0.0 (3), min blue:0.2857142857142857 (1008), avg: 0.7852849702380952\n",
      "step: 23 min red: 0.0 (4), min blue:0.25 (996), avg: 0.7861333333333335\n",
      "step: 24 min red: 0.0 (6), min blue:0.2857142857142857 (1002), avg: 0.7849252976190476 no improve: 1\n",
      "step: 25 min red: 0.0 (2), min blue:0.2857142857142857 (993), avg: 0.7873778273809523\n",
      "step: 26 min red: 0.0 (4), min blue:0.25 (992), avg: 0.790703869047619\n",
      "step: 27 min red: 0.0 (2), min blue:0.2 (993), avg: 0.7908181547619046\n",
      "step: 28 min red: 0.0 (4), min blue:0.2857142857142857 (985), avg: 0.7888330357142856\n",
      "step: 29 min red: 0.0 (4), min blue:0.25 (993), avg: 0.7891741071428571 no improve: 1\n",
      "step: 30 min red: 0.0 (1), min blue:0.3333333333333333 (978), avg: 0.7901456845238095\n",
      "step: 31 min red: 0.0 (1), min blue:0.2857142857142857 (983), avg: 0.7892004464285715 no improve: 1\n",
      "step: 32 min red: 0.0 (1), min blue:0.3333333333333333 (975), avg: 0.7921022321428571\n",
      "step: 33 min red: 0.0 (2), min blue:0.3333333333333333 (986), avg: 0.7909627976190478 no improve: 1\n",
      "step: 34 min red: 0.0 (1), min blue:0.3333333333333333 (973), avg: 0.7899223214285714\n",
      "step: 35 min red: 0.0 (1), min blue:0.3333333333333333 (985), avg: 0.7906111607142858 no improve: 1\n",
      "step: 36 min red: 0.0 (1), min blue:0.2857142857142857 (971), avg: 0.7904424107142858\n",
      "step: 37 min red: 0.0 (1), min blue:0.375 (981), avg: 0.7913233630952382 no improve: 1\n",
      "step: 38 min red: 0.0 (0), min blue:0.375 (980), avg: 0.788676636904762\n",
      "step: 39 min red: 0.0 (0), min blue:0.3333333333333333 (983), avg: 0.7909436011904762 no improve: 1\n",
      "step: 40 min red: 0.0 (2), min blue:0.2857142857142857 (971), avg: 0.7931081845238095\n",
      "step: 41 min red: 0.0 (2), min blue:0.375 (977), avg: 0.7908181547619048 no improve: 1\n",
      "step: 42 min red: 0.0 (0), min blue:0.375 (975), avg: 0.7918686011904763\n",
      "step: 43 min red: 0.0 (0), min blue:0.375 (969), avg: 0.7904897321428572\n",
      "step: 44 min red: 0.0 (0), min blue:0.3333333333333333 (967), avg: 0.7924894345238096\n",
      "step: 45 min red: 0.0 (1), min blue:0.375 (976), avg: 0.7914815476190477 no improve: 1\n",
      "step: 46 min red: 0.0 (0), min blue:0.375 (970), avg: 0.7927206845238095 no improve: 2\n",
      "step: 47 min red: 0.0 (0), min blue:0.375 (962), avg: 0.7919254464285713\n",
      "step: 48 min red: 0.0 (0), min blue:0.375 (964), avg: 0.793971875 no improve: 1\n",
      "step: 49 min red: 0.0 (0), min blue:0.3333333333333333 (961), avg: 0.7933313988095239\n",
      "step: 50 min red: 0.0 (1), min blue:0.375 (958), avg: 0.7929669642857143\n",
      "step: 51 min red: 0.0 (0), min blue:0.375 (963), avg: 0.7916627976190477\n",
      "step: 52 min red: 0.0 (0), min blue:0.375 (957), avg: 0.7926294642857143\n",
      "step: 53 min red: 0.0 (0), min blue:0.375 (960), avg: 0.7893223214285715 no improve: 1\n",
      "step: 54 min red: 0.0 (0), min blue:0.375 (973), avg: 0.7913407738095238 no improve: 2\n",
      "step: 55 min red: 0.0 (0), min blue:0.375 (965), avg: 0.7914605654761906 no improve: 3\n",
      "step: 56 min red: 0.0 (0), min blue:0.375 (962), avg: 0.7919610119047619 no improve: 4\n",
      "step: 57 min red: 0.0 (0), min blue:0.375 (950), avg: 0.793841369047619\n",
      "step: 58 min red: 0.0 (0), min blue:0.375 (968), avg: 0.7931421130952381 no improve: 1\n",
      "step: 59 min red: 0.0 (0), min blue:0.375 (962), avg: 0.7925034226190476 no improve: 2\n",
      "step: 60 min red: 0.0 (0), min blue:0.375 (954), avg: 0.7941126488095238 no improve: 3\n",
      "step: 61 min red: 0.0 (0), min blue:0.375 (961), avg: 0.7912607142857142 no improve: 4\n",
      "step: 62 min red: 0.0 (0), min blue:0.375 (968), avg: 0.7911413690476191 no improve: 5\n",
      "step: 63 min red: 0.0 (0), min blue:0.375 (955), avg: 0.7937752976190477 no improve: 6\n",
      "step: 64 min red: 0.0 (0), min blue:0.375 (955), avg: 0.7943270833333334 no improve: 7\n",
      "step: 65 min red: 0.0 (0), min blue:0.375 (953), avg: 0.7935034226190476 no improve: 8\n",
      "step: 66 min red: 0.0 (0), min blue:0.375 (957), avg: 0.7942464285714286 no improve: 9\n",
      "step: 67 min red: 0.0 (0), min blue:0.375 (970), avg: 0.7918590773809524 no improve: 10\n"
     ]
    }
   ],
   "source": [
    "L = 100\n",
    "R = 4000\n",
    "B = 4000\n",
    "jr = 0.75\n",
    "jb = 0.375\n",
    "k = 1\n",
    "\n",
    "segregation = ShellingSegregation()\n",
    "iteration, average_happiness, not_stopped = segregation.simulate(L, R, B, jr, jb, k)\n",
    "make_gif('baseline.gif', segregation.lattice_list, L, R, B, jr, jb, k)"
   ]
  },
  {
   "cell_type": "code",
   "execution_count": 3,
   "metadata": {},
   "outputs": [
    {
     "data": {
      "text/plain": [
       "67"
      ]
     },
     "execution_count": 3,
     "metadata": {},
     "output_type": "execute_result"
    }
   ],
   "source": [
    "iteration"
   ]
  },
  {
   "cell_type": "code",
   "execution_count": 4,
   "metadata": {},
   "outputs": [
    {
     "data": {
      "text/plain": [
       "0.7918590773809524"
      ]
     },
     "execution_count": 4,
     "metadata": {},
     "output_type": "execute_result"
    }
   ],
   "source": [
    "average_happiness"
   ]
  },
  {
   "cell_type": "code",
   "execution_count": 5,
   "metadata": {},
   "outputs": [
    {
     "data": {
      "text/plain": [
       "False"
      ]
     },
     "execution_count": 5,
     "metadata": {},
     "output_type": "execute_result"
    }
   ],
   "source": [
    "not_stopped"
   ]
  }
 ],
 "metadata": {
  "interpreter": {
   "hash": "31f2aee4e71d21fbe5cf8b01ff0e069b9275f58929596ceb00d14d90e3e16cd6"
  },
  "kernelspec": {
   "display_name": "Python 3.8.10 64-bit",
   "language": "python",
   "name": "python3"
  },
  "language_info": {
   "codemirror_mode": {
    "name": "ipython",
    "version": 3
   },
   "file_extension": ".py",
   "mimetype": "text/x-python",
   "name": "python",
   "nbconvert_exporter": "python",
   "pygments_lexer": "ipython3",
   "version": "3.8.10"
  },
  "orig_nbformat": 4
 },
 "nbformat": 4,
 "nbformat_minor": 2
}
