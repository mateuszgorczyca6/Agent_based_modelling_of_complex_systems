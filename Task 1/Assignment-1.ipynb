{
 "cells": [
  {
   "cell_type": "code",
   "execution_count": 1,
   "metadata": {},
   "outputs": [],
   "source": [
    "from fire import Fire\n",
    "from plot_of_next_side import plot_of_next_side"
   ]
  },
  {
   "cell_type": "code",
   "execution_count": 7,
   "metadata": {},
   "outputs": [],
   "source": [
    "fire = Fire(20,0.4)\n",
    "fire.simulation()\n",
    "fire.make_gif()"
   ]
  },
  {
   "cell_type": "code",
   "execution_count": 8,
   "metadata": {},
   "outputs": [],
   "source": [
    "from scipy.cluster.hierarchy import fcluster\n",
    "import numpy as np\n",
    "import matplotlib.pyplot as plt"
   ]
  },
  {
   "cell_type": "code",
   "execution_count": 9,
   "metadata": {},
   "outputs": [
    {
     "data": {
      "image/png": "[encoded data removed]",
      "text/plain": [
       "<Figure size 432x288 with 1 Axes>"
      ]
     },
     "metadata": {
      "needs_background": "light"
     },
     "output_type": "display_data"
    },
    {
     "data": {
      "image/png": "[encoded data removed]",
      "text/plain": [
       "<Figure size 432x288 with 1 Axes>"
      ]
     },
     "metadata": {
      "needs_background": "light"
     },
     "output_type": "display_data"
    }
   ],
   "source": [
    "plot_of_next_side(20)"
   ]
  },
  {
   "cell_type": "code",
   "execution_count": 11,
   "metadata": {},
   "outputs": [
    {
     "name": "stdout",
     "output_type": "stream",
     "text": [
      "The forest at the end:\n",
      "[[3 3 0 1 0 1 0 1 0 1 0 0 0 0 3 3 0 3 0 1]\n",
      " [0 3 0 1 0 0 1 0 0 0 0 1 1 0 0 3 3 0 0 1]\n",
      " [3 3 0 0 1 0 1 1 0 1 1 0 0 0 3 0 0 0 0 0]\n",
      " [3 0 0 1 0 0 1 1 1 1 1 0 0 0 0 3 0 0 1 1]\n",
      " [3 0 0 0 0 1 0 0 1 0 0 0 0 3 0 3 0 0 1 1]\n",
      " [3 3 3 0 0 0 0 0 0 1 1 1 0 3 0 0 3 0 0 0]\n",
      " [0 0 0 3 0 0 3 3 0 0 0 0 0 3 3 3 0 3 3 3]\n",
      " [3 0 0 3 0 0 0 3 3 3 0 0 0 3 3 0 3 3 3 0]\n",
      " [0 3 0 3 3 0 3 3 3 3 3 0 3 0 3 0 0 3 3 0]\n",
      " [0 0 3 3 3 3 3 0 0 3 3 3 0 0 0 3 3 3 3 3]\n",
      " [0 0 0 0 3 0 0 0 0 0 0 0 0 0 3 3 3 0 3 3]\n",
      " [0 0 3 3 3 0 0 3 3 3 0 0 3 3 3 0 0 0 3 0]\n",
      " [0 0 0 3 0 0 3 3 0 0 3 3 3 3 3 0 3 3 3 0]\n",
      " [0 0 0 3 3 3 3 0 0 3 3 3 0 0 3 0 3 0 3 0]\n",
      " [0 0 0 0 0 3 3 0 3 3 0 0 0 0 0 3 0 0 0 3]\n",
      " [3 0 0 0 0 3 0 0 0 0 3 0 0 0 0 3 0 3 3 3]\n",
      " [3 3 3 0 3 0 0 3 3 3 0 3 0 0 3 3 0 3 0 0]\n",
      " [3 0 3 0 0 0 3 0 0 0 3 3 0 0 0 0 3 3 0 0]\n",
      " [3 0 0 3 3 3 3 0 0 0 3 0 3 0 0 0 3 0 0 0]\n",
      " [0 0 3 0 0 3 0 0 0 0 0 0 3 3 0 3 3 3 3 3]]\n",
      "The labeled clusters\n",
      "[[ 1.  1.  0.  0.  0.  0.  0.  0.  0.  0.  0.  0.  0.  0.  2.  2.  0.  3.\n",
      "   0.  0.]\n",
      " [ 0.  1.  0.  0.  0.  0.  0.  0.  0.  0.  0.  0.  0.  0.  0.  2.  2.  0.\n",
      "   0.  0.]\n",
      " [ 1.  1.  0.  0.  0.  0.  0.  0.  0.  0.  0.  0.  0.  0.  5.  0.  0.  0.\n",
      "   0.  0.]\n",
      " [ 1.  0.  0.  0.  0.  0.  0.  0.  0.  0.  0.  0.  0.  0.  0.  6.  0.  0.\n",
      "   0.  0.]\n",
      " [ 1.  0.  0.  0.  0.  0.  0.  0.  0.  0.  0.  0.  0.  7.  0.  6.  0.  0.\n",
      "   0.  0.]\n",
      " [ 1.  1.  1.  0.  0.  0.  0.  0.  0.  0.  0.  0.  0.  7.  0.  0.  8.  0.\n",
      "   0.  0.]\n",
      " [ 0.  0.  0. 21.  0.  0. 21. 21.  0.  0.  0.  0.  0.  7.  7.  7.  0. 11.\n",
      "  11. 11.]\n",
      " [12.  0.  0. 21.  0.  0.  0. 21. 21. 21.  0.  0.  0.  7.  7.  0. 11. 11.\n",
      "  11.  0.]\n",
      " [ 0. 14.  0. 21. 21.  0. 21. 21. 21. 21. 21.  0. 16.  0.  7.  0.  0. 11.\n",
      "  11.  0.]\n",
      " [ 0.  0. 21. 21. 21. 21. 21.  0.  0. 21. 21. 21.  0.  0.  0. 11. 11. 11.\n",
      "  11. 11.]\n",
      " [ 0.  0.  0.  0. 21.  0.  0.  0.  0.  0.  0.  0.  0.  0. 11. 11. 11.  0.\n",
      "  11. 11.]\n",
      " [ 0.  0. 21. 21. 21.  0.  0. 21. 21. 21.  0.  0. 11. 11. 11.  0.  0.  0.\n",
      "  11.  0.]\n",
      " [ 0.  0.  0. 21.  0.  0. 21. 21.  0.  0. 11. 11. 11. 11. 11.  0. 11. 11.\n",
      "  11.  0.]\n",
      " [ 0.  0.  0. 21. 21. 21. 21.  0.  0. 11. 11. 11.  0.  0. 11.  0. 11.  0.\n",
      "  11.  0.]\n",
      " [ 0.  0.  0.  0.  0. 21. 21.  0. 11. 11.  0.  0.  0.  0.  0. 28.  0.  0.\n",
      "   0. 29.]\n",
      " [30.  0.  0.  0.  0. 21.  0.  0.  0.  0. 31.  0.  0.  0.  0. 28.  0. 29.\n",
      "  29. 29.]\n",
      " [30. 30. 30.  0. 33.  0.  0. 34. 34. 34.  0. 35.  0.  0. 28. 28.  0. 29.\n",
      "   0.  0.]\n",
      " [30.  0. 30.  0.  0.  0. 37.  0.  0.  0. 35. 35.  0.  0.  0.  0. 29. 29.\n",
      "   0.  0.]\n",
      " [30.  0.  0. 37. 37. 37. 37.  0.  0.  0. 35.  0. 41.  0.  0.  0. 29.  0.\n",
      "   0.  0.]\n",
      " [ 0.  0. 42.  0.  0. 37.  0.  0.  0.  0.  0.  0. 41. 41.  0. 29. 29. 29.\n",
      "  29. 29.]]\n",
      "Biggest cluster is  39\n"
     ]
    },
    {
     "data": {
      "text/plain": [
       "39"
      ]
     },
     "execution_count": 11,
     "metadata": {},
     "output_type": "execute_result"
    }
   ],
   "source": [
    "fire.find_biggest_cluster(plot=True)"
   ]
  },
  {
   "cell_type": "code",
   "execution_count": null,
   "metadata": {},
   "outputs": [],
   "source": []
  }
 ],
 "metadata": {
  "interpreter": {
   "hash": "916dbcbb3f70747c44a77c7bcd40155683ae19c65e1c03b4aa3499c5328201f1"
  },
  "kernelspec": {
   "display_name": "Python 3.8.10 64-bit",
   "name": "python3"
  },
  "language_info": {
   "codemirror_mode": {
    "name": "ipython",
    "version": 3
   },
   "file_extension": ".py",
   "mimetype": "text/x-python",
   "name": "python",
   "nbconvert_exporter": "python",
   "pygments_lexer": "ipython3",
   "version": "3.8.10"
  }
 },
 "nbformat": 4,
 "nbformat_minor": 4
}
