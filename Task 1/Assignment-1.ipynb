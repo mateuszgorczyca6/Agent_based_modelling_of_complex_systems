{
 "cells": [
  {
   "cell_type": "code",
   "execution_count": 1,
   "metadata": {},
   "outputs": [],
   "source": [
    "from fire import Fire\n",
    "from plot_of_next_side import plot_of_next_side"
   ]
  },
  {
   "cell_type": "code",
   "execution_count": 2,
   "metadata": {},
   "outputs": [],
   "source": [
    "# fire = Fire(20,0.4)\n",
    "# fire.simulation()\n",
    "# fire.make_gif()"
   ]
  },
  {
   "cell_type": "code",
   "execution_count": 3,
   "metadata": {},
   "outputs": [],
   "source": [
    "# from scipy.cluster.hierarchy import fcluster\n",
    "# import numpy as np\n",
    "# import matplotlib.pyplot as plt"
   ]
  },
  {
   "cell_type": "code",
   "execution_count": 4,
   "metadata": {},
   "outputs": [
    {
     "name": "stdout",
     "output_type": "stream",
     "text": [
      "Doing for p =  0.0\n",
      "Doing for p =  0.08\n",
      "Doing for p =  0.16\n",
      "Doing for p =  0.24\n",
      "Doing for p =  0.02\n",
      "Doing for p =  0.1\n",
      "Doing for p =  0.04\n",
      "Doing for p =  0.18\n",
      "Doing for p =  0.26\n",
      "Doing for p =  0.12\n",
      "Doing for p =  0.06\n",
      "Doing for p =  0.32\n",
      "Doing for p =  0.2\n",
      "Doing for p =  0.14\n",
      "Doing for p =  0.4\n",
      "Doing for p =  0.22\n",
      "Doing for p =  0.28\n",
      "Doing for p =  0.48\n",
      "Doing for p =  0.34\n",
      "Doing for p =  0.3\n",
      "Doing for p =  0.36\n",
      "Doing for p =  0.42\n",
      "Doing for p =  0.56\n",
      "Doing for p =  0.38\n",
      "Doing for p =  0.5\n",
      "Doing for p =  0.44\n",
      "Doing for p =  0.64\n",
      "Doing for p =  0.58\n",
      "Doing for p =  0.52\n",
      "Doing for p =  0.46\n",
      "Doing for p =  0.66\n",
      "Doing for p =  0.6\n",
      "Doing for p =  0.54\n",
      "Doing for p =  0.72\n",
      "Doing for p =  0.68\n",
      "Doing for p =  0.62\n",
      "Doing for p =  0.8\n",
      "Doing for p =  0.74\n",
      "Doing for p =  0.7000000000000001\n",
      "Doing for p =  0.88\n",
      "Doing for p =  0.8200000000000001\n",
      "Doing for p =  0.76\n",
      "Doing for p =  0.96\n",
      "Doing for p =  0.9\n",
      "Doing for p =  0.84\n",
      "Doing for p =  0.98\n",
      "Doing for p =  0.78\n",
      "Doing for p =  0.92\n",
      "Doing for p =  0.86\n",
      "Doing for p =  1.0\n",
      "Doing for p =  0.9400000000000001\n",
      "Doing for p =  0.2723076923076923\n",
      "Doing for p =  0.24615384615384617\n",
      "Doing for p =  0.29846153846153844\n",
      "Doing for p =  0.22\n",
      "Doing for p =  0.2548717948717949\n",
      "Doing for p =  0.22871794871794873\n",
      "Doing for p =  0.28102564102564104\n",
      "Doing for p =  0.2635897435897436\n",
      "Doing for p =  0.3071794871794872\n",
      "Doing for p =  0.23743589743589744\n",
      "Doing for p =  0.28974358974358977\n",
      "Doing for p =  0.32461538461538464\n",
      "Doing for p =  0.3158974358974359\n",
      "Doing for p =  0.3507692307692308\n",
      "Doing for p =  0.3769230769230769\n",
      "Doing for p =  0.33333333333333337\n",
      "Doing for p =  0.4030769230769231\n",
      "Doing for p =  0.3594871794871795\n",
      "Doing for p =  0.3420512820512821\n",
      "Doing for p =  0.36820512820512824\n",
      "Doing for p =  0.4292307692307693\n",
      "Doing for p =  0.38564102564102565\n",
      "Doing for p =  0.41179487179487184\n",
      "Doing for p =  0.3943589743589744\n",
      "Doing for p =  0.4553846153846154\n",
      "Doing for p =  0.4205128205128206\n",
      "Doing for p =  0.437948717948718\n",
      "Doing for p =  0.4815384615384616\n",
      "Doing for p =  0.5076923076923078\n",
      "Doing for p =  0.4641025641025641\n",
      "Doing for p =  0.4466666666666667\n",
      "Doing for p =  0.4902564102564103\n",
      "Doing for p =  0.5164102564102565\n",
      "Doing for p =  0.5338461538461539\n",
      "Doing for p =  0.47282051282051285\n",
      "Doing for p =  0.49897435897435904\n",
      "Doing for p =  0.5425641025641026\n",
      "Doing for p =  0.5251282051282051\n",
      "Doing for p =  0.56\n",
      "Doing for p =  0.5512820512820513\n"
     ]
    },
    {
     "data": {
      "image/png": "[encoded data removed]",
      "text/plain": [
       "<Figure size 432x288 with 1 Axes>"
      ]
     },
     "metadata": {
      "needs_background": "light"
     },
     "output_type": "display_data"
    },
    {
     "data": {
      "image/png": "[encoded data removed]",
      "text/plain": [
       "<Figure size 432x288 with 1 Axes>"
      ]
     },
     "metadata": {
      "needs_background": "light"
     },
     "output_type": "display_data"
    }
   ],
   "source": [
    "plot_of_next_side(20)"
   ]
  },
  {
   "cell_type": "code",
   "execution_count": 5,
   "metadata": {},
   "outputs": [
    {
     "ename": "NameError",
     "evalue": "name 'fire' is not defined",
     "output_type": "error",
     "traceback": [
      "\u001b[0;31m---------------------------------------------------------------------------\u001b[0m",
      "\u001b[0;31mNameError\u001b[0m                                 Traceback (most recent call last)",
      "\u001b[0;32m<ipython-input-5-8888e888f11d>\u001b[0m in \u001b[0;36m<module>\u001b[0;34m\u001b[0m\n\u001b[0;32m----> 1\u001b[0;31m \u001b[0mfire\u001b[0m\u001b[0;34m.\u001b[0m\u001b[0mfind_biggest_cluster\u001b[0m\u001b[0;34m(\u001b[0m\u001b[0mplot\u001b[0m\u001b[0;34m=\u001b[0m\u001b[0;32mTrue\u001b[0m\u001b[0;34m)\u001b[0m\u001b[0;34m\u001b[0m\u001b[0;34m\u001b[0m\u001b[0m\n\u001b[0m",
      "\u001b[0;31mNameError\u001b[0m: name 'fire' is not defined"
     ]
    }
   ],
   "source": [
    "fire.find_biggest_cluster(plot=True)"
   ]
  },
  {
   "cell_type": "code",
   "execution_count": null,
   "metadata": {},
   "outputs": [],
   "source": []
  }
 ],
 "metadata": {
  "interpreter": {
   "hash": "916dbcbb3f70747c44a77c7bcd40155683ae19c65e1c03b4aa3499c5328201f1"
  },
  "kernelspec": {
   "display_name": "Python 3.8.10 64-bit",
   "name": "python3"
  },
  "language_info": {
   "codemirror_mode": {
    "name": "ipython",
    "version": 3
   },
   "file_extension": ".py",
   "mimetype": "text/x-python",
   "name": "python",
   "nbconvert_exporter": "python",
   "pygments_lexer": "ipython3",
   "version": "3.8.10"
  }
 },
 "nbformat": 4,
 "nbformat_minor": 4
}
